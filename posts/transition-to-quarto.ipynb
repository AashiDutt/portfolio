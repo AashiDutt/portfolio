{
 "cells": [
  {
   "cell_type": "markdown",
   "metadata": {},
   "source": [
    "---\n",
    "aliases:\n",
    "- /migrate-to-quarto\n",
    "badges: false\n",
    "categories:\n",
    "- blogging\n",
    "- technical-writing\n",
    "- quarto\n",
    "- migration\n",
    "date: '2024-01-15'\n",
    "description: Migrate from fastpages to Quarto (an extension to Hamel's post).\n",
    "hide: false\n",
    "output-file: migrate-to-quarto.html\n",
    "search_exclude: false\n",
    "title: Another Migration Guide from fastpages to Quarto\n",
    "toc: false\n",
    "comments:\n",
    "  utterances:\n",
    "    repo: sayakpaul/portfolio\n",
    "---"
   ]
  }
 ],
 "metadata": {
  "language_info": {
   "name": "python"
  }
 },
 "nbformat": 4,
 "nbformat_minor": 2
}
